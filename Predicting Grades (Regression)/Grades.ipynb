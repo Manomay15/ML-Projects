{
 "cells": [
  {
   "cell_type": "markdown",
   "metadata": {
    "colab_type": "text",
    "id": "view-in-github"
   },
   "source": [
    "<a href=\"https://colab.research.google.com/github/Manomay15/ML-Projects/blob/main/Grades.ipynb\" target=\"_parent\"><img src=\"https://colab.research.google.com/assets/colab-badge.svg\" alt=\"Open In Colab\"/></a>"
   ]
  },
  {
   "cell_type": "code",
   "execution_count": 7,
   "metadata": {
    "id": "UjDfHi229jyV"
   },
   "outputs": [],
   "source": [
    "import numpy as np\n",
    "import pandas as pd\n",
    "import sklearn\n",
    "from sklearn import linear_model\n",
    "import matplotlib.pyplot as plt\n"
   ]
  },
  {
   "cell_type": "code",
   "execution_count": 8,
   "metadata": {
    "colab": {
     "base_uri": "https://localhost:8080/",
     "height": 206
    },
    "id": "aoiJYkyBCSHK",
    "outputId": "fdb0178d-d28f-4af7-fb9a-54b3a2196351"
   },
   "outputs": [
    {
     "data": {
      "text/html": [
       "<div>\n",
       "<style scoped>\n",
       "    .dataframe tbody tr th:only-of-type {\n",
       "        vertical-align: middle;\n",
       "    }\n",
       "\n",
       "    .dataframe tbody tr th {\n",
       "        vertical-align: top;\n",
       "    }\n",
       "\n",
       "    .dataframe thead th {\n",
       "        text-align: right;\n",
       "    }\n",
       "</style>\n",
       "<table border=\"1\" class=\"dataframe\">\n",
       "  <thead>\n",
       "    <tr style=\"text-align: right;\">\n",
       "      <th></th>\n",
       "      <th>G1</th>\n",
       "      <th>G2</th>\n",
       "      <th>G3</th>\n",
       "      <th>studytime</th>\n",
       "      <th>failures</th>\n",
       "      <th>absences</th>\n",
       "    </tr>\n",
       "  </thead>\n",
       "  <tbody>\n",
       "    <tr>\n",
       "      <th>0</th>\n",
       "      <td>5</td>\n",
       "      <td>6</td>\n",
       "      <td>6</td>\n",
       "      <td>2</td>\n",
       "      <td>0</td>\n",
       "      <td>6</td>\n",
       "    </tr>\n",
       "    <tr>\n",
       "      <th>1</th>\n",
       "      <td>5</td>\n",
       "      <td>5</td>\n",
       "      <td>6</td>\n",
       "      <td>2</td>\n",
       "      <td>0</td>\n",
       "      <td>4</td>\n",
       "    </tr>\n",
       "    <tr>\n",
       "      <th>2</th>\n",
       "      <td>7</td>\n",
       "      <td>8</td>\n",
       "      <td>10</td>\n",
       "      <td>2</td>\n",
       "      <td>3</td>\n",
       "      <td>10</td>\n",
       "    </tr>\n",
       "    <tr>\n",
       "      <th>3</th>\n",
       "      <td>15</td>\n",
       "      <td>14</td>\n",
       "      <td>15</td>\n",
       "      <td>3</td>\n",
       "      <td>0</td>\n",
       "      <td>2</td>\n",
       "    </tr>\n",
       "    <tr>\n",
       "      <th>4</th>\n",
       "      <td>6</td>\n",
       "      <td>10</td>\n",
       "      <td>10</td>\n",
       "      <td>2</td>\n",
       "      <td>0</td>\n",
       "      <td>4</td>\n",
       "    </tr>\n",
       "  </tbody>\n",
       "</table>\n",
       "</div>"
      ],
      "text/plain": [
       "   G1  G2  G3  studytime  failures  absences\n",
       "0   5   6   6          2         0         6\n",
       "1   5   5   6          2         0         4\n",
       "2   7   8  10          2         3        10\n",
       "3  15  14  15          3         0         2\n",
       "4   6  10  10          2         0         4"
      ]
     },
     "execution_count": 8,
     "metadata": {},
     "output_type": "execute_result"
    }
   ],
   "source": [
    "data = pd.read_csv(\"C:/Users/HP/Desktop/ML-Projects/Predicting Grades (Regression)/student-mat.csv\", sep=\";\")\n",
    "data\n",
    "data = data[[\"G1\", \"G2\", \"G3\", \"studytime\", \"failures\", \"absences\"]]\n",
    "data.head()"
   ]
  },
  {
   "cell_type": "code",
   "execution_count": 9,
   "metadata": {
    "colab": {
     "base_uri": "https://localhost:8080/",
     "height": 283
    },
    "id": "L5oZadGCp_Mr",
    "outputId": "f23db03d-3c6f-4581-9c4a-a51b13dd7bc0"
   },
   "outputs": [
    {
     "data": {
      "text/plain": [
       "<module 'matplotlib.pyplot' from 'C:\\\\Users\\\\HP\\\\anaconda3\\\\lib\\\\site-packages\\\\matplotlib\\\\pyplot.py'>"
      ]
     },
     "execution_count": 9,
     "metadata": {},
     "output_type": "execute_result"
    },
    {
     "data": {
      "image/png": "[encoded data removed]",
      "text/plain": [
       "<Figure size 432x288 with 1 Axes>"
      ]
     },
     "metadata": {
      "needs_background": "light"
     },
     "output_type": "display_data"
    }
   ],
   "source": [
    "plt.scatter(data['absences'], data['G3'])\n",
    "plt"
   ]
  },
  {
   "cell_type": "code",
   "execution_count": 10,
   "metadata": {
    "colab": {
     "base_uri": "https://localhost:8080/",
     "height": 265
    },
    "id": "SFWlI2F--N6M",
    "outputId": "bbeac988-f643-4b11-f514-d5ea312a41a9"
   },
   "outputs": [
    {
     "data": {
      "image/png": "[encoded data removed]",
      "text/plain": [
       "<Figure size 432x288 with 1 Axes>"
      ]
     },
     "metadata": {
      "needs_background": "light"
     },
     "output_type": "display_data"
    }
   ],
   "source": [
    "plt.scatter(data['G1'], data['G3'])\n",
    "plt.show()"
   ]
  },
  {
   "cell_type": "code",
   "execution_count": 11,
   "metadata": {
    "id": "2WEfhR2M0EAE"
   },
   "outputs": [],
   "source": [
    "predict = \"G3\"\n",
    "X = np.array(data.drop([predict], 1))\n",
    "Y = np.array(data[predict])\n",
    "x_train, x_test, y_train, y_test = sklearn.model_selection.train_test_split(X, Y, test_size = 0.5)\n"
   ]
  },
  {
   "cell_type": "code",
   "execution_count": 12,
   "metadata": {
    "colab": {
     "base_uri": "https://localhost:8080/"
    },
    "id": "7kExG9RR2Eob",
    "outputId": "b2657ad8-8f7d-4a85-d6f3-1fd5f53f623f"
   },
   "outputs": [
    {
     "name": "stdout",
     "output_type": "stream",
     "text": [
      "0.7949383052379586\n"
     ]
    }
   ],
   "source": [
    "linear = linear_model.LinearRegression()\n",
    "linear.fit(x_train, y_train)\n",
    "acc = linear.score(x_test, y_test)\n",
    "print(acc)"
   ]
  },
  {
   "cell_type": "code",
   "execution_count": 13,
   "metadata": {
    "colab": {
     "base_uri": "https://localhost:8080/"
    },
    "id": "UnF1N7eR5Box",
    "outputId": "f8f9b634-3c11-44ea-d882-14e558875e7b"
   },
   "outputs": [
    {
     "name": "stdout",
     "output_type": "stream",
     "text": [
      "7.391965840651462 [ 8  8  4  0 10] 8\n",
      "18.658179452235387 [18 18  1  0  6] 18\n",
      "9.438433488881515 [ 9 10  3  0  4] 10\n",
      "13.915273818032325 [14 14  3  0  4] 14\n",
      "8.756954352525526 [9 9 2 0 4] 10\n",
      "6.836636930463696 [8 7 2 0 6] 9\n",
      "14.928759294157066 [14 15  2  0  0] 15\n",
      "8.60195926541223 [8 9 1 3 0] 10\n",
      "8.796377520364175 [10  9  3  0  7] 9\n",
      "9.604436658765891 [ 9 10  2  0  2] 9\n",
      "7.36312097970639 [7 8 2 3 2] 9\n",
      "7.418053931651812 [9 8 4 0 2] 8\n",
      "9.829789468346991 [10 10  2  0  4] 10\n",
      "18.698032395951536 [18 18  1  0  8] 18\n",
      "12.637442140365337 [11 13  2  0  2] 14\n",
      "4.5191698041312165 [7 5 3 1 0] 0\n",
      "17.961764775756514 [16 18  2  0  0] 18\n",
      "4.011664965570226 [7 4 1 2 0] 0\n",
      "10.902624584168457 [11 11  2  0  4] 11\n",
      "8.6976047128288 [8 9 1 0 0] 8\n",
      "14.80260906798884 [14 15  3  0  4] 16\n",
      "8.862748330958176 [10  9  2  0  0] 0\n",
      "4.333669938266267 [6 5 3 1 0] 0\n",
      "6.3460783675853465 [6 7 2 0 0] 0\n",
      "13.876280426071176 [12 14  1  0  0] 15\n",
      "13.247559534392135 [13 13  2  0 14] 14\n",
      "4.745382165467316 [6 5 1 1 0] 0\n",
      "6.613093629650947 [ 6  7  2  1 15] 8\n",
      "4.713500349661792 [6 5 1 2 0] 0\n",
      "14.968612237873216 [14 15  2  0  2] 15\n",
      "11.909518665273422 [11 12  2  0 10] 13\n",
      "16.372594141708433 [17 16  2  0  0] 17\n",
      "8.912381911353302 [ 9  9  2  2 15] 9\n",
      "4.681618533856268 [6 5 1 3 0] 0\n",
      "9.584939962785315 [ 8 10  1  0  0] 11\n",
      "14.593571531421476 [15 14  2  1 20] 13\n",
      "10.035645581947515 [10 10  1  0  4] 10\n",
      "9.457930184862091 [10 10  4  0  6] 11\n",
      "14.061780291936126 [13 14  1  0  0] 14\n",
      "12.665282981449021 [14 12  2  0 20] 13\n",
      "14.331547201091068 [13 15  4  0  0] 15\n",
      "7.662447833455014 [ 6  8  1  3 16] 8\n",
      "5.850099097094305 [7 6 1 0 0] 0\n",
      "6.250432920168775 [6 7 2 3 0] 0\n",
      "12.181315813590446 [12 12  1  0  4] 13\n",
      "10.756977662019656 [10 11  2  0  6] 11\n",
      "14.928759294157066 [14 15  2  0  0] 15\n",
      "14.326986045233374 [14 14  1  0  4] 14\n",
      "15.835591240094159 [15 16  3  0  2] 18\n",
      "11.533098225930829 [12 11  1  0 16] 11\n",
      "10.411206469535108 [11 11  4  0  0] 11\n",
      "15.093902912286438 [16 15  3  0  0] 15\n",
      "7.01640495306387 [ 7  7  1  0 14] 5\n",
      "15.770820892784739 [17 15  1  0  4] 16\n",
      "4.916749284279364 [6 5 1 0 7] 6\n",
      "9.824057625082213 [ 8 10  1  0 12] 10\n",
      "8.408063618614532 [ 8  8  1  0 30] 8\n",
      "14.037010052286229 [15 14  3  2  4] 15\n",
      "4.625025664104265 [ 5  5  2  0 12] 5\n",
      "12.119935934731638 [10 13  4  0  6] 13\n",
      "5.7863354654832575 [7 6 1 2 0] 0\n",
      "6.952268304260341 [5 8 2 3 0] 7\n",
      "11.503968057214648 [12 12  4  0  1] 12\n",
      "9.829789468346991 [10 10  2  0  4] 11\n",
      "16.352237893972855 [18 16  3  0  0] 16\n",
      "0.32023148375468746 [7 0 2 0 0] 0\n",
      "5.056234587285888 [ 6  5  1  0 14] 5\n",
      "5.833361866895432 [ 6  6  2  2 22] 4\n",
      "14.061780291936126 [13 14  1  0  0] 13\n",
      "10.424971322250908 [10 11  4  0 10] 11\n",
      "5.498596061344982 [6 6 2 0 2] 6\n",
      "10.266419099141308 [ 8 11  2  0  0] 11\n",
      "15.299759025886964 [16 15  2  0  0] 15\n",
      "10.902624584168457 [11 11  2  0  4] 11\n",
      "6.499696417644772 [7 7 2 1 0] 0\n",
      "5.685905435978282 [ 6  6  2  1 13] 8\n",
      "14.537403314691591 [13 15  3  0  0] 15\n",
      "13.484494670728202 [12 14  3  0  1] 15\n",
      "0.4942057815496881 [7 0 1 1 0] 0\n",
      "9.287365859120024 [11  9  2  0 12] 9\n",
      "6.208775590539655 [ 7  6  1  0 18] 6\n",
      "7.758031399331186 [9 8 2 1 0] 0\n",
      "11.193177516936473 [ 9 12  3  0  3] 11\n",
      "11.909518665273422 [11 12  2  0 10] 13\n",
      "8.541811955500904 [ 6  9  1  2 14] 8\n",
      "8.571454486660576 [8 9 2 0 4] 10\n",
      "6.5355651453240995 [7 7 2 3 5] 7\n",
      "11.193918428466056 [13 11  2  0  0] 10\n",
      "9.49864268033324 [ 8 10  2  0  6] 10\n",
      "9.193583983319842 [ 7 10  2  0  0] 11\n",
      "12.141462869874296 [12 12  1  0  2] 14\n",
      "6.539549361360922 [7 7 2 1 2] 7\n",
      "9.809433220611414 [11 10  3  0  4] 10\n",
      "9.182951613578226 [10  9  3  1 28] 9\n",
      "8.955846053913794 [ 7 10  3  1  0] 10\n",
      "11.221816028234755 [13 11  2  1  3] 11\n",
      "9.60082545992155 [11  9  1  1 19] 10\n",
      "11.008418562601106 [12 11  2  0  0] 12\n",
      "11.14747408973013 [13 11  3  0  8] 11\n",
      "11.955963004009346 [11 12  1  0  2] 11\n",
      "9.087790004887193 [ 6 10  2  0  4] 10\n",
      "16.081730073288334 [14 16  1  0  3] 16\n",
      "16.848217164463897 [17 17  4  0  0] 18\n",
      "12.968588928379086 [13 13  2  0  0] 13\n",
      "14.928759294157066 [14 15  2  0  0] 16\n",
      "8.531601542944426 [8 9 2 0 2] 8\n",
      "4.142438229136542 [3 5 2 1 8] 5\n",
      "15.114259160022016 [15 15  2  0  0] 15\n",
      "13.604053501876653 [12 14  3  0  7] 14\n",
      "12.970828213024937 [11 13  1  1 10] 13\n",
      "10.088833602501964 [10 10  2  0 17] 10\n",
      "6.797213762625045 [7 7 1 0 3] 8\n",
      "0.05944241820874141 [5 0 1 3 0] 0\n",
      "7.261254458625544 [ 9  7  2  0 18] 6\n",
      "8.571454486660576 [8 9 2 0 4] 10\n",
      "9.313142814468291 [ 7 10  2  0  6] 10\n",
      "7.166613031070362 [7 8 4 0 8] 8\n",
      "6.621432651898674 [8 7 2 3 0] 0\n",
      "9.793130889145424 [ 9  9  2  0 56] 8\n",
      "6.445280950998222 [7 7 3 0 6] 7\n",
      "15.193965047454316 [15 15  2  0  4] 15\n",
      "8.789842884029419 [ 7 10  4  1  2] 10\n",
      "7.604413349271761 [8 8 2 0 0] 0\n",
      "12.174724418570671 [12 12  2  0 14] 12\n",
      "9.789936524630841 [10 10  2  0  2] 10\n",
      "11.359610462698347 [ 8 12  1  0  0] 12\n",
      "0.11437537015416299 [7 0 3 0 0] 0\n",
      "8.832676023921003 [ 9  9  2  2 11] 9\n",
      "8.019682712469113 [9 8 1 3 6] 10\n",
      "15.730967949068587 [17 15  1  0  2] 15\n",
      "0.9781110678678635 [12  0  3  2  0] 0\n",
      "14.041424044200552 [14 14  2  0  0] 14\n",
      "7.7638251241363605 [8 8 2 0 8] 6\n",
      "12.394283503346596 [14 12  2  1  8] 12\n",
      "8.374429052725677 [6 9 1 1 4] 8\n",
      "12.420371594346946 [15 12  2  1  0] 12\n",
      "9.604436658765891 [ 9 10  2  0  2] 10\n",
      "13.519356682709159 [14 13  1  0  8] 13\n",
      "11.843577630556922 [10 12  2  0 16] 11\n",
      "13.894917570296753 [15 14  4  0  4] 14\n",
      "6.92293421291577 [8 7 1 0 0] 6\n",
      "12.783089062514136 [12 13  2  0  0] 14\n",
      "14.94911554189264 [13 15  1  0  0] 15\n",
      "13.729773952167378 [13 14  3  0  4] 14\n",
      "4.539526051866791 [6 5 2 1 0] 0\n",
      "12.902218117785086 [13 13  3  0  7] 14\n",
      "15.008465181589365 [14 15  2  0  4] 15\n",
      "13.810339391354676 [11 14  1  0  6] 14\n",
      "10.713083743581663 [13 10  2  1 22] 11\n",
      "10.285915795121882 [ 9 11  3  0  2] 11\n",
      "14.90840304642149 [15 15  3  0  0] 15\n",
      "4.651113755104615 [6 5 2 0 4] 6\n",
      "15.935223599384534 [15 16  3  0  7] 15\n",
      "10.357233720313797 [10  9  2  0 75] 9\n",
      "12.466018262868271 [14 12  2  0 10] 11\n",
      "9.809433220611414 [11 10  3  0  4] 11\n",
      "0.7115874632201615 [8 0 1 0 0] 0\n",
      "10.451918965006257 [ 9 11  2  0  0] 12\n",
      "10.141439560380164 [11 10  1  0  0] 10\n",
      "17.0744295258 [16 17  2  0  0] 17\n",
      "8.1003926197628 [7 9 3 0 0] 8\n",
      "11.062036359033055 [11 11  2  0 12] 11\n",
      "12.089224806333197 [13 12  2  1  2] 12\n",
      "7.894536506162277 [7 9 4 0 0] 0\n",
      "18.558117317067506 [19 18  2  0  2] 18\n",
      "8.20076589058276 [11  8  2  0  2] 8\n",
      "10.677271774587357 [10 11  2  0  2] 12\n",
      "11.116451825679606 [11 11  1  1  6] 10\n",
      "13.233794681676336 [14 13  2  0  4] 13\n",
      "11.994956395970496 [13 12  3  0  6] 12\n",
      "7.604413349271761 [8 8 2 0 0] 9\n",
      "12.73750427553321 [10 13  1  0  6] 13\n",
      "11.770463138144397 [10 12  1  0  2] 12\n",
      "13.10764445550811 [14 13  3  0  8] 14\n",
      "9.338371353713642 [10 10  4  0  0] 10\n",
      "7.604413349271761 [8 8 2 0 0] 0\n",
      "10.862771640452307 [11 11  2  0  2] 10\n",
      "4.690966698820764 [6 5 2 0 6] 6\n",
      "11.89532403668012 [13 12  3  0  1] 12\n",
      "11.935606756273772 [12 12  2  0  2] 11\n",
      "11.501216410125306 [12 11  1  1 16] 12\n",
      "12.53238907346227 [14 12  1  0  3] 12\n",
      "9.062013049538924 [10  9  2  0 10] 10\n",
      "15.313523878602766 [15 15  2  0 10] 15\n",
      "9.718201765109166 [10 10  2  1  0] 0\n",
      "0.8563748336139614 [11  0  3  0  0] 0\n",
      "10.447877990284415 [12 10  2  1 18] 10\n",
      "16.287156411011352 [15 16  1  0  4] 15\n",
      "9.995792638231364 [10 10  1  0  2] 10\n",
      "12.552315545320345 [14 12  1  0  4] 11\n",
      "18.22654075317626 [18 18  3  0  5] 19\n",
      "13.42689778111481 [13 13  2  0 23] 13\n",
      "13.855924178335602 [13 14  2  0  0] 15\n",
      "8.451036103757128 [10  9  4  0  0] 0\n",
      "-0.09417563185068445 [4 0 1 2 0] 0\n",
      "11.949371608989573 [11 12  2  0 12] 11\n",
      "6.7967839867475455 [8 7 2 0 4] 6\n",
      "5.723948870926081 [7 6 2 0 4] 6\n"
     ]
    }
   ],
   "source": [
    "predictions = linear.predict(x_test)\n",
    "for x in range(len(predictions)):\n",
    "  print(predictions[x], x_test[x], y_test[x])"
   ]
  }
 ],
 "metadata": {
  "colab": {
   "authorship_tag": "ABX9TyNeouhmhBgrrGf/vKjCqyQt",
   "collapsed_sections": [],
   "include_colab_link": true,
   "name": "Grades.ipynb",
   "provenance": []
  },
  "interpreter": {
   "hash": "1e915f0a29dc84041eaeb02b7b1a21c440e37a87b61d44d5e84a515737dc82bc"
  },
  "kernelspec": {
   "display_name": "Python 3.8.8 64-bit ('base': conda)",
   "name": "python3"
  },
  "language_info": {
   "codemirror_mode": {
    "name": "ipython",
    "version": 3
   },
   "file_extension": ".py",
   "mimetype": "text/x-python",
   "name": "python",
   "nbconvert_exporter": "python",
   "pygments_lexer": "ipython3",
   "version": "3.8.8"
  }
 },
 "nbformat": 4,
 "nbformat_minor": 1
}
