{
  "nbformat": 4,
  "nbformat_minor": 0,
  "metadata": {
    "colab": {
      "name": "Grades.ipynb",
      "provenance": [],
      "collapsed_sections": [],
      "authorship_tag": "ABX9TyNeouhmhBgrrGf/vKjCqyQt",
      "include_colab_link": true
    },
    "kernelspec": {
      "name": "python3",
      "display_name": "Python 3"
    },
    "language_info": {
      "name": "python"
    }
  },
  "cells": [
    {
      "cell_type": "markdown",
      "metadata": {
        "id": "view-in-github",
        "colab_type": "text"
      },
      "source": [
        "<a href=\"https://colab.research.google.com/github/Manomay15/ML-Projects/blob/main/Grades.ipynb\" target=\"_parent\"><img src=\"https://colab.research.google.com/assets/colab-badge.svg\" alt=\"Open In Colab\"/></a>"
      ]
    },
    {
      "cell_type": "code",
      "metadata": {
        "id": "UjDfHi229jyV"
      },
      "source": [
        "import numpy as np\n",
        "import pandas as pd\n",
        "import sklearn\n",
        "from sklearn import linear_model\n",
        "import matplotlib.pyplot as plt\n"
      ],
      "execution_count": 2,
      "outputs": []
    },
    {
      "cell_type": "code",
      "metadata": {
        "id": "aoiJYkyBCSHK",
        "colab": {
          "base_uri": "https://localhost:8080/",
          "height": 206
        },
        "outputId": "fdb0178d-d28f-4af7-fb9a-54b3a2196351"
      },
      "source": [
        "data = pd.read_csv(\"/content/student-mat.csv\", sep=\";\")\n",
        "data\n",
        "data = data[[\"G1\", \"G2\", \"G3\", \"studytime\", \"failures\", \"absences\"]]\n",
        "data.head()"
      ],
      "execution_count": 4,
      "outputs": [
        {
          "output_type": "execute_result",
          "data": {
            "text/html": [
              "<div>\n",
              "<style scoped>\n",
              "    .dataframe tbody tr th:only-of-type {\n",
              "        vertical-align: middle;\n",
              "    }\n",
              "\n",
              "    .dataframe tbody tr th {\n",
              "        vertical-align: top;\n",
              "    }\n",
              "\n",
              "    .dataframe thead th {\n",
              "        text-align: right;\n",
              "    }\n",
              "</style>\n",
              "<table border=\"1\" class=\"dataframe\">\n",
              "  <thead>\n",
              "    <tr style=\"text-align: right;\">\n",
              "      <th></th>\n",
              "      <th>G1</th>\n",
              "      <th>G2</th>\n",
              "      <th>G3</th>\n",
              "      <th>studytime</th>\n",
              "      <th>failures</th>\n",
              "      <th>absences</th>\n",
              "    </tr>\n",
              "  </thead>\n",
              "  <tbody>\n",
              "    <tr>\n",
              "      <th>0</th>\n",
              "      <td>5</td>\n",
              "      <td>6</td>\n",
              "      <td>6</td>\n",
              "      <td>2</td>\n",
              "      <td>0</td>\n",
              "      <td>6</td>\n",
              "    </tr>\n",
              "    <tr>\n",
              "      <th>1</th>\n",
              "      <td>5</td>\n",
              "      <td>5</td>\n",
              "      <td>6</td>\n",
              "      <td>2</td>\n",
              "      <td>0</td>\n",
              "      <td>4</td>\n",
              "    </tr>\n",
              "    <tr>\n",
              "      <th>2</th>\n",
              "      <td>7</td>\n",
              "      <td>8</td>\n",
              "      <td>10</td>\n",
              "      <td>2</td>\n",
              "      <td>3</td>\n",
              "      <td>10</td>\n",
              "    </tr>\n",
              "    <tr>\n",
              "      <th>3</th>\n",
              "      <td>15</td>\n",
              "      <td>14</td>\n",
              "      <td>15</td>\n",
              "      <td>3</td>\n",
              "      <td>0</td>\n",
              "      <td>2</td>\n",
              "    </tr>\n",
              "    <tr>\n",
              "      <th>4</th>\n",
              "      <td>6</td>\n",
              "      <td>10</td>\n",
              "      <td>10</td>\n",
              "      <td>2</td>\n",
              "      <td>0</td>\n",
              "      <td>4</td>\n",
              "    </tr>\n",
              "  </tbody>\n",
              "</table>\n",
              "</div>"
            ],
            "text/plain": [
              "   G1  G2  G3  studytime  failures  absences\n",
              "0   5   6   6          2         0         6\n",
              "1   5   5   6          2         0         4\n",
              "2   7   8  10          2         3        10\n",
              "3  15  14  15          3         0         2\n",
              "4   6  10  10          2         0         4"
            ]
          },
          "metadata": {},
          "execution_count": 4
        }
      ]
    },
    {
      "cell_type": "code",
      "metadata": {
        "id": "L5oZadGCp_Mr",
        "colab": {
          "base_uri": "https://localhost:8080/",
          "height": 283
        },
        "outputId": "f23db03d-3c6f-4581-9c4a-a51b13dd7bc0"
      },
      "source": [
        "plt.scatter(data['absences'], data['G3'])\n",
        "plt"
      ],
      "execution_count": 5,
      "outputs": [
        {
          "output_type": "execute_result",
          "data": {
            "text/plain": [
              "<module 'matplotlib.pyplot' from '/usr/local/lib/python3.7/dist-packages/matplotlib/pyplot.py'>"
            ]
          },
          "metadata": {},
          "execution_count": 5
        },
        {
          "output_type": "display_data",
          "data": {
            "image/png": "[encoded data removed]",
            "text/plain": [
              "<Figure size 432x288 with 1 Axes>"
            ]
          },
          "metadata": {
            "needs_background": "light"
          }
        }
      ]
    },
    {
      "cell_type": "code",
      "metadata": {
        "id": "SFWlI2F--N6M",
        "colab": {
          "base_uri": "https://localhost:8080/",
          "height": 265
        },
        "outputId": "bbeac988-f643-4b11-f514-d5ea312a41a9"
      },
      "source": [
        "plt.scatter(data['G1'], data['G3'])\n",
        "plt.show()"
      ],
      "execution_count": 6,
      "outputs": [
        {
          "output_type": "display_data",
          "data": {
            "image/png": "[encoded data removed]",
            "text/plain": [
              "<Figure size 432x288 with 1 Axes>"
            ]
          },
          "metadata": {
            "needs_background": "light"
          }
        }
      ]
    },
    {
      "cell_type": "code",
      "metadata": {
        "id": "2WEfhR2M0EAE"
      },
      "source": [
        "predict = \"G3\"\n",
        "X = np.array(data.drop([predict], 1))\n",
        "Y = np.array(data[predict])\n",
        "x_train, x_test, y_train, y_test = sklearn.model_selection.train_test_split(X, Y, test_size = 0.5)\n"
      ],
      "execution_count": 7,
      "outputs": []
    },
    {
      "cell_type": "code",
      "metadata": {
        "id": "7kExG9RR2Eob",
        "colab": {
          "base_uri": "https://localhost:8080/"
        },
        "outputId": "b2657ad8-8f7d-4a85-d6f3-1fd5f53f623f"
      },
      "source": [
        "linear = linear_model.LinearRegression()\n",
        "linear.fit(x_train, y_train)\n",
        "acc = linear.score(x_test, y_test)\n",
        "print(acc)"
      ],
      "execution_count": 8,
      "outputs": [
        {
          "output_type": "stream",
          "name": "stdout",
          "text": [
            "0.8102476435150846\n"
          ]
        }
      ]
    },
    {
      "cell_type": "code",
      "metadata": {
        "id": "UnF1N7eR5Box",
        "colab": {
          "base_uri": "https://localhost:8080/"
        },
        "outputId": "f8f9b634-3c11-44ea-d882-14e558875e7b"
      },
      "source": [
        "predictions = linear.predict(x_test)\n",
        "for x in range(len(predictions)):\n",
        "  print(predictions[x], x_test[x], y_test[x])"
      ],
      "execution_count": 9,
      "outputs": [
        {
          "output_type": "stream",
          "name": "stdout",
          "text": [
            "7.094766911543973 [9 8 1 3 6] 10\n",
            "7.682385859246823 [7 9 1 1 2] 8\n",
            "5.670942162392244 [7 7 3 0 0] 8\n",
            "7.362767278682355 [5 9 2 2 6] 7\n",
            "11.56429449185502 [12 12  2  0  0] 11\n",
            "8.103390135688134 [8 9 2 0 4] 10\n",
            "11.282992244202822 [10 12  2  1  4] 12\n",
            "16.448008287207934 [17 16  2  0  0] 16\n",
            "11.504763091770307 [12 11  1  1 16] 12\n",
            "12.861202811103084 [13 13  2  0  2] 11\n",
            "15.277001087897833 [16 15  2  0  0] 15\n",
            "8.204657028569384 [8 9 1 0 5] 9\n",
            "19.132258500379752 [18 18  1  0  8] 18\n",
            "15.766804658798542 [17 15  1  0  4] 16\n",
            "18.866774154648265 [18 18  3  0  5] 19\n",
            "11.690195611792983 [12 12  2  0  2] 11\n",
            "13.61660953073087 [13 13  2  0 14] 14\n",
            "12.53561669305261 [12 13  2  0  0] 13\n",
            "19.71261444895174 [17 18  2  0 21] 18\n",
            "-0.4909419187410884 [10  0  2  0  0] 0\n",
            "6.011344499259565 [8 7 2 3 8] 8\n",
            "10.918558408707902 [13 11  2  0  2] 11\n",
            "16.37422440903339 [16 16  2  0  2] 17\n",
            "18.190967691490602 [16 18  2  0  0] 18\n",
            "12.253783060868239 [14 12  1  0  4] 11\n",
            "12.264735182069394 [14 12  4  0  6] 13\n",
            "8.538759061707603 [ 7 10  4  1  2] 10\n",
            "10.543822639539595 [11 11  3  0  3] 11\n",
            "4.642518135716087 [7 6 1 1 0] 0\n",
            "16.33875686377111 [15 16  1  0  4] 15\n",
            "8.174325226212686 [10  9  4  0  0] 0\n",
            "11.788613717024242 [13 12  3  0  1] 12\n",
            "11.329141948480231 [10 12  1  0  2] 12\n",
            "9.963885904011454 [11 10  1  0  8] 10\n",
            "6.643279673555533 [8 8 1 3 2] 10\n",
            "5.936426508123729 [7 7 1 0 3] 8\n",
            "7.279635690839635 [10  8  2  0  0] 9\n",
            "9.183963760322547 [10 10  3  0  0] 9\n",
            "8.880463491727047 [10  9  2  0 10] 10\n",
            "9.074712336885725 [ 8 10  2  0  4] 9\n",
            "8.623225098897285 [ 7 10  2  0  0] 11\n",
            "10.431603625457187 [11 11  1  0  0] 10\n",
            "9.14849621506027 [ 9 10  2  0  2] 10\n",
            "-1.8522540503006872 [5 0 1 3 0] 0\n",
            "15.07731608978532 [15 15  2  0  0] 15\n",
            "5.091005426864103 [7 6 1 0 5] 7\n",
            "4.664152415932376 [6 6 2 0 2] 6\n",
            "14.606749580689595 [16 14  4  0  6] 15\n",
            "9.460281424259597 [11 10  1  0  0] 10\n",
            "5.622807821240109 [7 7 2 3 5] 7\n",
            "-0.690626916853599 [9 0 2 0 0] 0\n",
            "16.17453941092088 [15 16  2  0  2] 16\n",
            "7.5752702318751535 [7 9 4 0 0] 0\n",
            "13.701226727110981 [15 13  2  0  9] 15\n",
            "9.113028669797993 [ 8 10  1  0  4] 10\n",
            "3.204041953799776 [6 5 1 3 0] 0\n",
            "12.593170087769861 [14 12  2  0 10] 11\n",
            "13.41692453261836 [12 13  2  0 14] 12\n",
            "10.502957929025587 [12 10  2  0 14] 11\n",
            "12.445602331420769 [12 12  2  0 14] 12\n",
            "5.507740019507708 [8 7 2 3 0] 0\n",
            "9.421965091347328 [11 10  2  0  0] 10\n",
            "11.072512915586847 [13 10  2  1 22] 11\n",
            "9.000928458711178 [ 7 10  2  0  6] 10\n",
            "14.716262426472571 [13 15  1  0  0] 15\n",
            "15.630070220655014 [16 15  1  0  5] 16\n",
            "12.333534476528792 [14 12  2  1  8] 12\n",
            "7.23390519960607 [ 9  7  2  1 20] 8\n",
            "17.50976406308121 [16 17  1  0  4] 18\n",
            "6.880265694614614 [8 8 2 0 0] 0\n",
            "13.476907501941758 [14 13  1  0  8] 13\n",
            "-0.8519955820538399 [8 0 1 0 0] 0\n",
            "15.402902207835798 [16 15  2  0  2] 15\n",
            "14.803847213498265 [13 15  2  0  2] 16\n",
            "17.18132915738074 [16 17  3  0  0] 17\n",
            "8.502760131913154 [10  9  2  0  4] 9\n",
            "14.87763109167281 [14 15  2  0  0] 15\n",
            "12.73530169116512 [13 13  2  0  0] 12\n",
            "10.319503414370372 [10 11  2  0  2] 12\n",
            "12.106215304519147 [12 12  1  0  8] 12\n",
            "12.661517812990574 [12 13  2  0  2] 13\n",
            "4.716269657695794 [5 6 2 0 6] 6\n",
            "12.461832814878065 [11 13  2  0  2] 13\n",
            "9.200613456823689 [ 8 10  2  0  6] 10\n",
            "7.917538402621609 [9 9 2 1 0] 0\n",
            "16.609376952408176 [18 16  3  0  0] 16\n",
            "20.00573296858036 [18 18  1  1 24] 18\n",
            "8.355192375564062 [8 9 2 0 8] 10\n",
            "11.285428450316232 [12 11  2  0 11] 11\n",
            "5.655694632705806 [ 6  6  2  2 22] 4\n",
            "10.675572493967975 [11 11  1  1  6] 10\n",
            "8.33854267906292 [10  9  3  0  2] 9\n",
            "7.1056002297495375 [10  8  1  3  3] 7\n",
            "13.920109799326369 [13 14  3  0  4] 14\n",
            "9.993917296319896 [ 9 11  2  0  0] 12\n",
            "12.190832500899257 [14 12  1  0  3] 12\n",
            "10.519188412482883 [11 11  2  0  2] 10\n",
            "9.550833801930875 [ 9 10  3  0  9] 9\n",
            "13.18678892915356 [14 13  2  0  4] 13\n",
            "14.763939732067541 [11 12  2  0 54] 11\n",
            "12.787418932928539 [12 13  2  0  4] 13\n",
            "-1.2896819111911308 [6 0 2 0 0] 0\n",
            "5.9089434934170235 [8 7 2 0 0] 8\n",
            "15.706821689475142 [15 15  2  0 10] 15\n",
            "6.286646853230916 [8 7 2 0 6] 9\n",
            "11.994115093432331 [11 12  2  0 10] 13\n",
            "14.445380915489356 [15 14  3  0  6] 14\n",
            "12.904955296969188 [16 12  1  0  8] 13\n",
            "12.382651771451787 [12 12  2  0 13] 13\n",
            "15.641022341856168 [16 15  4  0  7] 17\n",
            "12.029614994889446 [15 12  2  1  0] 12\n",
            "19.97767958163938 [18 19  1  0  6] 19\n",
            "13.222675687459681 [14 12  2  0 20] 13\n",
            "14.60131342773576 [13 15  4  0  0] 15\n",
            "8.177174013862679 [9 9 2 0 2] 10\n",
            "16.245893714489277 [16 15  3  0 16] 15\n",
            "5.701425123939371 [7 7 2 1 2] 7\n",
            "14.193578675613427 [15 14  3  0  2] 15\n",
            "14.070526343325454 [14 14  1  0  2] 13\n",
            "7.605221808890111 [11  8  2  0  2] 8\n",
            "13.74494022527498 [13 14  1  0  0] 13\n",
            "4.508783644412982 [7 6 1 2 0] 0\n",
            "12.120016213370295 [11 12  2  0 12] 11\n",
            "7.433138628479895 [ 8  8  4  0 10] 8\n",
            "16.37422440903339 [16 16  2  0  2] 16\n",
            "12.972249889710882 [10  9  2  0 75] 9\n",
            "11.444360909403063 [11 12  3  1  4] 11\n",
            "8.554877373676572 [9 9 2 0 8] 9\n",
            "5.367441893796744 [ 7  6  2  0 10] 6\n",
            "14.046010919264333 [13 14  3  0  6] 14\n",
            "12.696985358252851 [13 13  3  0  0] 14\n",
            "3.944632454610714 [6 5 2 0 6] 6\n",
            "9.794232298207387 [ 8 11  2  0  0] 11\n",
            "4.989738533982852 [7 6 2 0 4] 6\n",
            "9.348181213172781 [10 10  2  0  2] 10\n",
            "9.61663314954985 [ 8 10  1  0 12] 10\n",
            "10.08150208334559 [ 9 11  3  0  2] 11\n",
            "9.635450998310986 [11 10  3  0  4] 11\n",
            "15.329118329661249 [15 15  2  0  4] 15\n",
            "10.592972290657428 [12 11  2  0  0] 12\n",
            "4.796053429551187 [8 6 2 2 2] 5\n",
            "6.385477539998757 [6 8 1 1 0] 8\n",
            "14.196427463263419 [14 14  1  0  4] 14\n",
            "8.250957892037226 [10  9  2  0  0] 0\n",
            "10.292439612707511 [10 10  2  0 17] 10\n",
            "8.861226429922064 [ 8 10  1  0  0] 11\n",
            "13.518342584690043 [14 13  3  1 12] 13\n",
            "3.8187313346727496 [6 5 2 0 4] 6\n",
            "10.803870832317246 [ 8 12  1  0  0] 12\n",
            "12.17213345513371 [10 12  2  0 16] 11\n",
            "10.621025677598409 [12 10  2  1 18] 10\n",
            "8.325724723982631 [9 9 1 2 8] 9\n",
            "10.746475228297689 [10 11  4  0 10] 11\n",
            "10.319503414370372 [10 11  2  0  2] 11\n",
            "9.274397334998234 [ 9 10  2  0  4] 10\n",
            "6.880265694614614 [8 8 2 0 0] 9\n",
            "3.3377440889080408 [3 5 2 1 8] 5\n",
            "6.254179254809063 [8 7 1 1 7] 8\n",
            "8.051272893924715 [9 9 2 0 0] 10\n",
            "16.448008287207934 [17 16  2  0  0] 17\n",
            "13.06130702225944 [13 12  1  0 20] 12\n",
            "11.257945435609527 [13 11  3  0  8] 11\n",
            "8.174325226212686 [10  9  4  0  0] 0\n",
            "15.038999756873054 [15 15  3  0  0] 15\n",
            "6.918582027526885 [8 8 1 0 0] 11\n",
            "16.13622307800861 [15 16  3  0  2] 18\n",
            "13.909276481120802 [12 14  3  0  7] 14\n",
            "15.12943333154874 [14 15  2  0  4] 15\n",
            "13.710194211437411 [15 13  3  2 14] 13\n",
            "7.036649776099708 [8 8 1 1 4] 8\n",
            "13.90630889047522 [14 14  2  0  0] 14\n",
            "15.203217209723284 [15 15  2  0  2] 16\n",
            "8.303075133800643 [9 9 2 0 4] 10\n",
            "3.619046336560239 [5 5 2 0 4] 6\n",
            "10.125254569211695 [12 10  2  0  8] 11\n",
            "8.39350870847633 [8 9 1 0 8] 10\n",
            "5.69359175257423 [7 7 2 2 4] 9\n",
            "8.33854267906292 [10  9  3  0  2] 8\n",
            "8.502760131913154 [10  9  2  0  4] 11\n",
            "12.461832814878065 [11 13  2  0  2] 14\n",
            "12.163768699236396 [14 11  1  0 18] 13\n",
            "9.145647427410276 [10 10  4  0  0] 10\n",
            "14.442793550185513 [11 15  1  0  2] 15\n",
            "16.45097587785352 [15 16  3  0  7] 15\n",
            "10.393287292544919 [11 11  2  0  0] 10\n",
            "2.566139242017801 [7 4 1 2 0] 0\n",
            "9.747551209397802 [12 10  2  0  2] 11\n",
            "7.241738570971211 [ 9  7  2  0 18] 6\n",
            "-0.39735723803454714 [12  0  3  2  0] 0\n",
            "6.048645522206137 [7 7 3 0 6] 7\n",
            "11.402925826654778 [11 12  1  0  0] 10\n",
            "10.519188412482883 [11 11  2  0  2] 11\n",
            "11.57650425218771 [ 9  9  2  0 56] 8\n",
            "18.891408381704977 [18 18  4  0  6] 18\n",
            "3.3377764451028806 [6 5 1 2 0] 0\n",
            "14.119794797438878 [14 14  3  0  4] 14\n",
            "16.076121305689618 [14 16  1  0  3] 16\n",
            "12.870019136239085 [11 13  1  1 10] 13\n"
          ]
        }
      ]
    }
  ]
}